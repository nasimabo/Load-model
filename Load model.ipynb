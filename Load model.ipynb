{
 "cells": [
  {
   "cell_type": "code",
   "execution_count": 3,
   "id": "2d672de2-23e2-4093-939a-182fe6515de0",
   "metadata": {},
   "outputs": [],
   "source": [
    "import pandas as pd\n",
    "import numpy as np"
   ]
  },
  {
   "cell_type": "code",
   "execution_count": 2,
   "id": "8de1a397-ee3e-4d66-864d-58d191810ddb",
   "metadata": {},
   "outputs": [],
   "source": [
    "import pickle"
   ]
  },
  {
   "cell_type": "code",
   "execution_count": 6,
   "id": "069a00fa-c43e-4b1b-ac1e-3e589cceff90",
   "metadata": {},
   "outputs": [],
   "source": [
    "with open('F:\\\\Pactice ostad data science\\\\Save model\\\\model_pickle','rb') as file:\n",
    "    mod = pickle.load(file)"
   ]
  },
  {
   "cell_type": "code",
   "execution_count": 7,
   "id": "9a7d5169-3692-4f05-a53f-a59b6eb39db8",
   "metadata": {},
   "outputs": [
    {
     "data": {
      "text/plain": [
       "array([[135.78767123]])"
      ]
     },
     "execution_count": 7,
     "metadata": {},
     "output_type": "execute_result"
    }
   ],
   "source": [
    "mod.coef_"
   ]
  },
  {
   "cell_type": "code",
   "execution_count": 8,
   "id": "5b3ed9fa-886b-47aa-bc5d-567f7742b24c",
   "metadata": {},
   "outputs": [
    {
     "data": {
      "text/plain": [
       "array([180616.43835616])"
      ]
     },
     "execution_count": 8,
     "metadata": {},
     "output_type": "execute_result"
    }
   ],
   "source": [
    "mod.intercept_"
   ]
  },
  {
   "cell_type": "code",
   "execution_count": 9,
   "id": "05d0dbc1-d1f3-47fa-a381-cd81cc94ec87",
   "metadata": {},
   "outputs": [
    {
     "name": "stderr",
     "output_type": "stream",
     "text": [
      "C:\\Users\\Hp\\AppData\\Local\\Programs\\Python\\Python310\\lib\\site-packages\\sklearn\\base.py:465: UserWarning: X does not have valid feature names, but LinearRegression was fitted with feature names\n",
      "  warnings.warn(\n"
     ]
    },
    {
     "data": {
      "text/plain": [
       "array([[859554.79452055]])"
      ]
     },
     "execution_count": 9,
     "metadata": {},
     "output_type": "execute_result"
    }
   ],
   "source": [
    "mod.predict([[5000]])"
   ]
  },
  {
   "cell_type": "code",
   "execution_count": 13,
   "id": "e983e09d-8715-4a4e-a43c-25ef34434566",
   "metadata": {},
   "outputs": [],
   "source": [
    "import joblib as jbl\n",
    "my_model = jbl.load('F:\\\\Pactice ostad data science\\\\Save model\\\\myjoblib_model') "
   ]
  },
  {
   "cell_type": "code",
   "execution_count": 14,
   "id": "7bb5eb6b-8783-471f-aa18-8270d237e39a",
   "metadata": {},
   "outputs": [
    {
     "data": {
      "text/plain": [
       "array([[135.78767123]])"
      ]
     },
     "execution_count": 14,
     "metadata": {},
     "output_type": "execute_result"
    }
   ],
   "source": [
    "my_model.coef_"
   ]
  },
  {
   "cell_type": "code",
   "execution_count": 16,
   "id": "f8d3487e-19d4-453e-a1e6-e6e505d78176",
   "metadata": {},
   "outputs": [
    {
     "data": {
      "text/plain": [
       "array([180616.43835616])"
      ]
     },
     "execution_count": 16,
     "metadata": {},
     "output_type": "execute_result"
    }
   ],
   "source": [
    "my_model.intercept_"
   ]
  }
 ],
 "metadata": {
  "kernelspec": {
   "display_name": "Python 3 (ipykernel)",
   "language": "python",
   "name": "python3"
  },
  "language_info": {
   "codemirror_mode": {
    "name": "ipython",
    "version": 3
   },
   "file_extension": ".py",
   "mimetype": "text/x-python",
   "name": "python",
   "nbconvert_exporter": "python",
   "pygments_lexer": "ipython3",
   "version": "3.10.4"
  }
 },
 "nbformat": 4,
 "nbformat_minor": 5
}
